{
 "cells": [
  {
   "cell_type": "markdown",
   "id": "e8585834",
   "metadata": {
    "deletable": false,
    "editable": false,
    "nbgrader": {
     "cell_type": "markdown",
     "checksum": "f0e440c1af1cb94375bcd7c5c2cece26",
     "grade": false,
     "grade_id": "cell-60aa580d9d920dba",
     "locked": true,
     "schema_version": 3,
     "solution": false
    }
   },
   "source": [
    "Osnabrück University - Computer Vision (Winter Term 2021/22) - Prof. Dr.-Ing. G. Heidemann, Ulf Krumnack, Axel Schaffland"
   ]
  },
  {
   "cell_type": "markdown",
   "id": "437b2d3b",
   "metadata": {
    "deletable": false,
    "editable": false,
    "nbgrader": {
     "cell_type": "markdown",
     "checksum": "d18396405721e4b84548a9b021331d8f",
     "grade": false,
     "grade_id": "cell-d9e6599459b0ba4d",
     "locked": true,
     "schema_version": 3,
     "solution": false
    }
   },
   "source": [
    "# Exercise Sheet 8: Recognition "
   ]
  },
  {
   "cell_type": "markdown",
   "id": "a57173d8",
   "metadata": {
    "deletable": false,
    "editable": false,
    "nbgrader": {
     "cell_type": "markdown",
     "checksum": "281901a5f94cd8d446187c81ed8403d2",
     "grade": false,
     "grade_id": "cell-917ded279d27040b",
     "locked": true,
     "schema_version": 3,
     "solution": false
    }
   },
   "source": [
    "## Introduction\n",
    "\n",
    "This week's sheet should be solved and handed in before the end of **Tuesday, January 18, 2022**. If you need help (and Google and other resources were not enough), feel free to contact your groups' designated tutor or whomever of us you run into first. Please upload your results to your group's Stud.IP folder."
   ]
  },
  {
   "cell_type": "markdown",
   "id": "b2d83415",
   "metadata": {
    "deletable": false,
    "editable": false,
    "nbgrader": {
     "cell_type": "markdown",
     "checksum": "05e2572a1616b79bda574dafda149a1e",
     "grade": false,
     "grade_id": "cell-1294b5df62dc9899",
     "locked": true,
     "schema_version": 3,
     "solution": false
    }
   },
   "source": [
    "## Exercise 0: Math recap (Covariance) [0 Points]\n",
    "\n",
    "This exercise is supposed to be very easy, does not give any points, and is voluntary. There will be a similar exercise on every sheet. It is intended to revise some basic mathematical notions that are assumed throughout this class and to allow you to check if you are comfortable with them. Usually you should have no problem to answer these questions offhand, but if you feel unsure, this is a good time to look them up again. You are always welcome to discuss questions with the tutors or in the practice session. Also, if you have a (math) topic you would like to recap, please let us know."
   ]
  },
  {
   "cell_type": "markdown",
   "id": "844a87b8",
   "metadata": {
    "deletable": false,
    "editable": false,
    "nbgrader": {
     "cell_type": "markdown",
     "checksum": "8e9a1de44903f9cedb716e93bb7fb7e2",
     "grade": false,
     "grade_id": "cell-dd4fc8740fa24cd4",
     "locked": true,
     "schema_version": 3,
     "solution": false
    }
   },
   "source": [
    "**a)** What does *covariance* express?"
   ]
  },
  {
   "cell_type": "markdown",
   "id": "5ad0316a",
   "metadata": {
    "deletable": false,
    "nbgrader": {
     "cell_type": "markdown",
     "checksum": "2fe29e77b9ee47fe2e2cb291452374a4",
     "grade": true,
     "grade_id": "cell-d0a08e6b9df1fa49",
     "locked": false,
     "points": 0,
     "schema_version": 3,
     "solution": true
    },
    "solution": true
   },
   "source": [
    "YOUR ANSWER HERE"
   ]
  },
  {
   "cell_type": "markdown",
   "id": "3efc7678",
   "metadata": {
    "deletable": false,
    "editable": false,
    "nbgrader": {
     "cell_type": "markdown",
     "checksum": "652b0e3ffeb010beae62f7d0b6bffce5",
     "grade": false,
     "grade_id": "cell-3f45913faacb5114",
     "locked": true,
     "schema_version": 3,
     "solution": false
    }
   },
   "source": [
    "**b)** Provide a formula to compute the covariance of two 1-dimensional datasets. How can it be generalized to the $n$-dimensional case?"
   ]
  },
  {
   "cell_type": "markdown",
   "id": "07e13233",
   "metadata": {
    "deletable": false,
    "nbgrader": {
     "cell_type": "markdown",
     "checksum": "56f4777cbc6351cc2f120d7cfe5c1fe5",
     "grade": true,
     "grade_id": "cell-786eb09d2039e702",
     "locked": false,
     "points": 0,
     "schema_version": 3,
     "solution": true
    },
    "solution": true
   },
   "source": [
    "YOUR ANSWER HERE"
   ]
  },
  {
   "cell_type": "markdown",
   "id": "bae72687",
   "metadata": {
    "deletable": false,
    "editable": false,
    "nbgrader": {
     "cell_type": "markdown",
     "checksum": "c6f09fa26d3a68ae37e242ec00cb1aed",
     "grade": false,
     "grade_id": "cell-acdf51da975ebbb6",
     "locked": true,
     "schema_version": 3,
     "solution": false
    }
   },
   "source": [
    "**c)** Create and plot two (1-dimensional) datasets with low covariance (use `plt.scatter`). Then do the same for two datasets with high covariance."
   ]
  },
  {
   "cell_type": "code",
   "execution_count": null,
   "id": "8f9e1301",
   "metadata": {
    "deletable": false,
    "nbgrader": {
     "cell_type": "code",
     "checksum": "8089d28e00fd8fd5e0c38f98d4202044",
     "grade": true,
     "grade_id": "cell-93b8616a81136037",
     "locked": false,
     "points": 0,
     "schema_version": 3,
     "solution": true
    },
    "solution": true
   },
   "outputs": [],
   "source": [
    "%matplotlib inline\n",
    "import numpy as np\n",
    "import matplotlib.pyplot as plt\n",
    "\n",
    "# YOUR CODE HERE"
   ]
  },
  {
   "cell_type": "markdown",
   "id": "26075c92",
   "metadata": {
    "deletable": false,
    "editable": false,
    "nbgrader": {
     "cell_type": "markdown",
     "checksum": "d34c7b2958f0439e60e5ce6c1fac60ba",
     "grade": false,
     "grade_id": "cell-f88fdfc9c00a86c6",
     "locked": true,
     "schema_version": 3,
     "solution": false
    }
   },
   "source": [
    "## Exercise 1: Template Matching Theory [2 points]"
   ]
  },
  {
   "cell_type": "markdown",
   "id": "cac0d99e",
   "metadata": {
    "deletable": false,
    "editable": false,
    "nbgrader": {
     "cell_type": "markdown",
     "checksum": "de6dc7d561f138a1f2f3da6b24059654",
     "grade": false,
     "grade_id": "cell-d3953fee315bfd3a",
     "locked": true,
     "schema_version": 3,
     "solution": false
    }
   },
   "source": [
    "**a)** Explain in your own words the idea of *template matching*. Is it a data or model based approach? What are the advantages and disadvantages? In what situations would you apply template matching?"
   ]
  },
  {
   "cell_type": "markdown",
   "id": "13679790",
   "metadata": {
    "deletable": false,
    "nbgrader": {
     "cell_type": "markdown",
     "checksum": "6f9c18e7de07b47288687c8455b5943e",
     "grade": true,
     "grade_id": "cell-a3ebc3df967c0771",
     "locked": false,
     "points": 1,
     "schema_version": 3,
     "solution": true
    },
    "solution": true
   },
   "source": [
    "YOUR ANSWER HERE"
   ]
  },
  {
   "cell_type": "markdown",
   "id": "7357e831",
   "metadata": {
    "deletable": false,
    "editable": false,
    "nbgrader": {
     "cell_type": "markdown",
     "checksum": "b17e0624609df05761d611e5963435bb",
     "grade": false,
     "grade_id": "cell-6845468087dd4b95",
     "locked": true,
     "schema_version": 3,
     "solution": false
    }
   },
   "source": [
    "**b)** Explain the ideas of *mean absolute difference* and *correlation coefficient*. Name pros and cons."
   ]
  },
  {
   "cell_type": "markdown",
   "id": "0e2c37bd",
   "metadata": {
    "deletable": false,
    "nbgrader": {
     "cell_type": "markdown",
     "checksum": "4232499f438a92fd9908c74650b584c1",
     "grade": true,
     "grade_id": "cell-4477d05a94efa0cd",
     "locked": false,
     "points": 1,
     "schema_version": 3,
     "solution": true
    },
    "solution": true
   },
   "source": [
    "YOUR ANSWER HERE"
   ]
  },
  {
   "cell_type": "markdown",
   "id": "198be4af",
   "metadata": {
    "deletable": false,
    "editable": false,
    "nbgrader": {
     "cell_type": "markdown",
     "checksum": "6ea87476678f6a00f017355b1f5981d4",
     "grade": false,
     "grade_id": "cell-da347f71dfbe19b7",
     "locked": true,
     "schema_version": 3,
     "solution": false
    }
   },
   "source": [
    "## Exercise 2: Template Matching Practice: Where is Waldo [2 points]"
   ]
  },
  {
   "cell_type": "markdown",
   "id": "cdb5b713",
   "metadata": {
    "deletable": false,
    "editable": false,
    "nbgrader": {
     "cell_type": "markdown",
     "checksum": "01331840d35c730977753845004604e0",
     "grade": false,
     "grade_id": "cell-70a15bc2b73522ac",
     "locked": true,
     "schema_version": 3,
     "solution": false
    }
   },
   "source": [
    "In the two images `wheresWaldo1.jpg` and `wheresWaldo2.jpg`, Waldo is hiding in the midst of a busy crowd. He always wears the same red and white striped sweater and hat. However, he may be carrying a something that varies from scene to scene. Use template matching with the given Waldo templates (`waldo*.jpg`) to locate Waldo. Highlight\n",
    "Waldo in the scene and indicate which template was matched.\n",
    "\n",
    "**Hints:**\n",
    "* You may use buildin functions to solve this exercise. E.g `skimage.feature.match_template` or `cv2.matchTemplate`\n",
    "* The images are quite large! You may start by testing your code on a small image patch before applying it to the full scene.\n",
    "* You may not achieve a perfect match. Analyse the problems you encounter and think how you can improve your result."
   ]
  },
  {
   "cell_type": "code",
   "execution_count": null,
   "id": "15aa00b6",
   "metadata": {
    "deletable": false,
    "nbgrader": {
     "cell_type": "code",
     "checksum": "0e9c3441f4a8040f6726958097a103db",
     "grade": true,
     "grade_id": "cell-40a72fe4a5f8b3ac",
     "locked": false,
     "points": 2,
     "schema_version": 3,
     "solution": true
    }
   },
   "outputs": [],
   "source": [
    "%matplotlib inline\n",
    "import numpy as np\n",
    "import matplotlib.pyplot as plt\n",
    "import cv2 \n",
    "\n",
    "waldos = [plt.imread('images/waldo/wheresWaldo{}.jpg'.format(i)) for i in range(1, 3)]\n",
    "templates = [plt.imread('images/waldo/waldo{}.jpg'.format(i)) for i in range(0, 6)]\n",
    "\n",
    "plt.figure(figsize = (14, 40))\n",
    "for i,img in enumerate(waldos):\n",
    "    plt.subplot(len(waldos),1,i+1)\n",
    "    plt.imshow(img)\n",
    "    \n",
    "plt.figure(figsize = (14, 10))\n",
    "for i,img in enumerate(templates):\n",
    "    plt.subplot(1,len(templates),i+1)\n",
    "    plt.imshow(img)\n",
    "    \n",
    "    \n",
    "# YOUR CODE HERE"
   ]
  },
  {
   "cell_type": "markdown",
   "id": "604f9d0f",
   "metadata": {
    "deletable": false,
    "editable": false,
    "nbgrader": {
     "cell_type": "markdown",
     "checksum": "111ab5bad7cf7a1effe0f339c6e03bf7",
     "grade": false,
     "grade_id": "cell-pca",
     "locked": true,
     "schema_version": 3,
     "solution": false
    }
   },
   "source": [
    "## Exercise 3: Pattern Recognition and PCA [4 points]"
   ]
  },
  {
   "cell_type": "markdown",
   "id": "1d0b5da0",
   "metadata": {
    "deletable": false,
    "editable": false,
    "nbgrader": {
     "cell_type": "markdown",
     "checksum": "87ba9f10c5306ed6f20123ec176417ad",
     "grade": false,
     "grade_id": "cell-pca-a-question",
     "locked": true,
     "schema_version": 3,
     "solution": false
    }
   },
   "source": [
    "**a)** What are the goals of *pattern recognition*? How can they be achieved? What are the problems?"
   ]
  },
  {
   "cell_type": "markdown",
   "id": "9d706302",
   "metadata": {
    "deletable": false,
    "nbgrader": {
     "cell_type": "markdown",
     "checksum": "da9027a58eb8dd3542a67db8889c6fdf",
     "grade": true,
     "grade_id": "cell-pca-a-answer",
     "locked": false,
     "points": 1,
     "schema_version": 3,
     "solution": true
    },
    "solution": true
   },
   "source": [
    "YOUR ANSWER HERE"
   ]
  },
  {
   "cell_type": "markdown",
   "id": "e2bdf216",
   "metadata": {
    "deletable": false,
    "editable": false,
    "nbgrader": {
     "cell_type": "markdown",
     "checksum": "6d0018d586e6246d76b54c31adc94277",
     "grade": false,
     "grade_id": "cell-pca-b-question",
     "locked": true,
     "schema_version": 3,
     "solution": false
    }
   },
   "source": [
    "**b)** What is *principal component analysis*? How is it related to pattern recognition?"
   ]
  },
  {
   "cell_type": "markdown",
   "id": "94a586fb",
   "metadata": {
    "deletable": false,
    "nbgrader": {
     "cell_type": "markdown",
     "checksum": "b318f0c31c35f5294c27ee500be50871",
     "grade": true,
     "grade_id": "cell-pca-b-answer",
     "locked": false,
     "points": 1,
     "schema_version": 3,
     "solution": true
    },
    "solution": true
   },
   "source": [
    "YOUR ANSWER HERE"
   ]
  },
  {
   "cell_type": "markdown",
   "id": "3f050d55",
   "metadata": {
    "deletable": false,
    "editable": false,
    "nbgrader": {
     "cell_type": "markdown",
     "checksum": "ff4056d5948e139f7608b4cbb27dc8be",
     "grade": false,
     "grade_id": "cell-pca-c-question",
     "locked": true,
     "schema_version": 3,
     "solution": false
    }
   },
   "source": [
    "**c)** Explain how principal components can be computed? Then implement a function that performs the computation."
   ]
  },
  {
   "cell_type": "markdown",
   "id": "d28d08ac",
   "metadata": {
    "deletable": false,
    "nbgrader": {
     "cell_type": "markdown",
     "checksum": "af40ccf763984f788e05787671e57082",
     "grade": true,
     "grade_id": "cell-pca-c-answer",
     "locked": false,
     "points": 1,
     "schema_version": 3,
     "solution": true
    },
    "solution": true
   },
   "source": [
    "YOUR ANSWER HERE"
   ]
  },
  {
   "cell_type": "code",
   "execution_count": null,
   "id": "77a453b5",
   "metadata": {
    "deletable": false,
    "nbgrader": {
     "cell_type": "code",
     "checksum": "5ae0a1ad727211764dd60c2f5cf6a61d",
     "grade": true,
     "grade_id": "cell-pca-c-implementation",
     "locked": false,
     "points": 1,
     "schema_version": 3,
     "solution": true
    }
   },
   "outputs": [],
   "source": [
    "%matplotlib inline\n",
    "import matplotlib.pyplot as plt\n",
    "import numpy as np\n",
    "\n",
    "\n",
    "def pca(data):\n",
    "    \"\"\"\n",
    "    Perform principal component analysis.\n",
    "    \n",
    "    Args:\n",
    "        data (ndarray): an array of shape (n,k),\n",
    "        meaning n entries with k dimensions\n",
    "        \n",
    "    Returns: two arrays\n",
    "        pc (ndarray): array of shape (k,k) holding the principal components in its columns.\n",
    "        var (ndarray): k-vector holding the corresponding variances, in descending order.\n",
    "    \"\"\"\n",
    "    \n",
    "    # Replace the following two lines by your code ...\n",
    "    pc = np.random.randn(data.shape[1],data.shape[1])\n",
    "    var = np.random.rand(data.shape[1])\n",
    "    # YOUR CODE HERE\n",
    "    return pc, var\n",
    "\n",
    "# generate some random data\n",
    "np.random.seed(23)\n",
    "data = np.random.multivariate_normal([0,0], cov = [[1, .55], [.55, .5]], size=300)\n",
    "\n",
    "# compute the principal components\n",
    "pc, var = pca(data)\n",
    "mean = data.mean(axis=0)\n",
    "\n",
    "# plot the results\n",
    "plt.figure(figsize=(12,8))\n",
    "plt.xlim(-4,4)\n",
    "plt.ylim(-2.5,2.5)\n",
    "plt.scatter(*data.T)\n",
    "plt.quiver(*mean[np.newaxis].repeat(2,axis=0).T, *(np.sqrt(var)*pc), color='red', scale=1, scale_units='xy')\n",
    "plt.show()\n",
    "\n",
    "# sanity check\n",
    "assert np.allclose(var, [1.216, 0.137], rtol=1e-3)"
   ]
  },
  {
   "cell_type": "markdown",
   "id": "2589e0b7",
   "metadata": {
    "deletable": false,
    "editable": false,
    "nbgrader": {
     "cell_type": "markdown",
     "checksum": "6a6eebbeef236b67b2f24d29879a4d99",
     "grade": false,
     "grade_id": "cell-d4c528e622d59ef6",
     "locked": true,
     "schema_version": 3,
     "solution": false
    }
   },
   "source": [
    "## Exercise 4: Eigenfaces [6 points]"
   ]
  },
  {
   "cell_type": "markdown",
   "id": "fa0be4cb",
   "metadata": {
    "deletable": false,
    "editable": false,
    "nbgrader": {
     "cell_type": "markdown",
     "checksum": "0f57ff5adf3e1b7d04ff909782096eb0",
     "grade": false,
     "grade_id": "cell-94ec3cfcfec0e7b0",
     "locked": true,
     "schema_version": 3,
     "solution": false
    }
   },
   "source": [
    "**a)** Import the images from the directory `images/trainimgs` into an numpy array using the function \n",
    "`read_images_from_directory` provided in the cell below. Display the images and the corresponding names."
   ]
  },
  {
   "cell_type": "code",
   "execution_count": null,
   "id": "4e87139e",
   "metadata": {
    "deletable": false,
    "nbgrader": {
     "cell_type": "code",
     "checksum": "32ea68cf57b861c843342ad1a0798f74",
     "grade": true,
     "grade_id": "cell-471f722946eed0b9",
     "locked": false,
     "points": 1,
     "schema_version": 3,
     "solution": true
    }
   },
   "outputs": [],
   "source": [
    "%matplotlib inline\n",
    "import sys\n",
    "import os\n",
    "import glob\n",
    "import numpy as np\n",
    "import matplotlib.pyplot as plt\n",
    "\n",
    "def read_images_from_directory(directory, suffix, shape):\n",
    "    \"\"\"\n",
    "    Read all images found in DIRECTORY with given file\n",
    "    name SUFFIX. All images should have the same SHAPE,\n",
    "    specified as (rows,columns).\n",
    "    \n",
    "    Args:\n",
    "        directory (string): Name of input directory.\n",
    "        suffix (string): File type suffix.\n",
    "        shape (tuple): Shape of images to be loaded.\n",
    "    \n",
    "    Returns:\n",
    "        images (ndarray): A numpy array of shape m*rows*columns (from shape)\n",
    "        names (list): A list of corresponding image names.\n",
    "    \"\"\"\n",
    "\n",
    "    # initialize the image array and name list\n",
    "    #images = np.empty((0, *shape))\n",
    "    images = np.empty((0, ) + shape)\n",
    "    names = []\n",
    "\n",
    "    # now loop through all image files in the directory\n",
    "    for file_name in glob.glob(directory + os.sep + '*.' + suffix):\n",
    "        if os.path.isfile(file_name):\n",
    "\n",
    "            # load each image (as double)\n",
    "            img = plt.imread(file_name)\n",
    "\n",
    "            # check for correct size\n",
    "            if img.shape == shape:\n",
    "                images = np.append(images, img.reshape((1, ) + shape), axis=0)\n",
    "                names.append(os.path.basename(file_name))\n",
    "            else:\n",
    "                print(\n",
    "                    'warning: Image \"' + file_name +\n",
    "                    '\" with wrong size will be ignored!',\n",
    "                    file=sys.stderr)\n",
    "\n",
    "    return images, names\n",
    "\n",
    "\n",
    "# image file suffix\n",
    "suffix = 'pgm'\n",
    "\n",
    "# image size\n",
    "img_shape = (192, 168)\n",
    "\n",
    "# YOUR CODE HERE"
   ]
  },
  {
   "cell_type": "markdown",
   "id": "ddad37a7",
   "metadata": {
    "deletable": false,
    "editable": false,
    "nbgrader": {
     "cell_type": "markdown",
     "checksum": "2dd0762f3328bdde0693bd6554490650",
     "grade": false,
     "grade_id": "ex-eigenface-pca-q",
     "locked": true,
     "schema_version": 3,
     "solution": false
    }
   },
   "source": [
    "**b)** Use PCA to compute the eigenfaces (i.e. the eigenvectors of the face images). You may use your PCA function from Exercise 1c or some build in function. Explain what kind of input PCA expects, and how that fits to our images (you may have to `reshape` the images!). Finally, display the eigenfaces."
   ]
  },
  {
   "cell_type": "code",
   "execution_count": null,
   "id": "54c6731c",
   "metadata": {
    "deletable": false,
    "nbgrader": {
     "cell_type": "code",
     "checksum": "b21646aaeb84b3ff958d9ffc0624bfa5",
     "grade": true,
     "grade_id": "cell-a8ca9a7fbbdedb2f",
     "locked": false,
     "points": 1,
     "schema_version": 3,
     "solution": true
    }
   },
   "outputs": [],
   "source": [
    "# YOUR CODE HERE"
   ]
  },
  {
   "cell_type": "markdown",
   "id": "be9ff0c6",
   "metadata": {
    "deletable": false,
    "editable": false,
    "nbgrader": {
     "cell_type": "markdown",
     "checksum": "ff1e319c2a7470adec5f61d0c8fe031c",
     "grade": false,
     "grade_id": "cell-c54ec5985375835f",
     "locked": true,
     "schema_version": 3,
     "solution": false
    }
   },
   "source": [
    "**c)** Now project the training face images into the eigenspace to calculate their ”feature vectors”,\n",
    "i.e. a representation with significantly lower dimension. For the projection of the face images,\n",
    "they have to be centered first, i.e. the mean face vector has to be subtracted. Store the mean face in some vector (`mean_face`) and the representation achieved in some array (`face_db`). Finally restore the images from `face_db` and display them alongside the original image. Try out the effect of changing the number of eigenfaces to be used (`num_eigenfaces`)."
   ]
  },
  {
   "cell_type": "code",
   "execution_count": null,
   "id": "911c2208",
   "metadata": {
    "deletable": false,
    "nbgrader": {
     "cell_type": "code",
     "checksum": "aa115dd06eb2fa02ec975a7e082c5517",
     "grade": true,
     "grade_id": "cell-43eaeder3c18070c8",
     "locked": false,
     "points": 1,
     "schema_version": 3,
     "solution": true
    }
   },
   "outputs": [],
   "source": [
    "# number of eigenfaces to be used\n",
    "num_eigenfaces = 19\n",
    "\n",
    "# Remark: a value of 20 (theoretical perfect reconstruction) may suffer from numerical\n",
    "# instability (the last eigenface may introduce noise).\n",
    "# However, a value of 19 suffices for almost perfect reconstruction ...\n",
    "\n",
    "# YOUR CODE HERE"
   ]
  },
  {
   "cell_type": "markdown",
   "id": "68ca4c94",
   "metadata": {
    "deletable": false,
    "editable": false,
    "nbgrader": {
     "cell_type": "markdown",
     "checksum": "bd0243d12f6df14d22b4ee4578476bd0",
     "grade": false,
     "grade_id": "ex-eigenface-recognize",
     "locked": true,
     "schema_version": 3,
     "solution": false
    }
   },
   "source": [
    "**d)** Understand the function `recognize_face` that recognizes a face from that database by calculating the euclidean distance of this face feature vector to all of the training feature vectors from the database. The feature vector with the smallest distance represents the winner category. Check the implementation by recognizing the images from the training set (they should be recognized without error)."
   ]
  },
  {
   "cell_type": "code",
   "execution_count": null,
   "id": "a9d3fb3b",
   "metadata": {
    "deletable": false,
    "editable": false,
    "nbgrader": {
     "cell_type": "code",
     "checksum": "61e3c00292fcfc64c7392cdf8d905846",
     "grade": false,
     "grade_id": "cell-55d01bed03c2d1ca2",
     "locked": true,
     "schema_version": 3,
     "solution": false,
     "task": false
    }
   },
   "outputs": [],
   "source": [
    "from scipy.spatial.distance import cdist\n",
    "\n",
    "def recognize_face(face, eigenfaces, mean_face, face_db):\n",
    "    \"\"\"\n",
    "    Recognize a face from a face database.\n",
    "    and return the index of the best matching database entry.\n",
    "\n",
    "    The FACE is first centered and projected into the eigeface\n",
    "    space provided by EIGENFACES. Then the best match is found\n",
    "    according to the euclidean distance in the eigenface space.\n",
    "    \n",
    "    Args:\n",
    "        face (ndarray): Face to be recognised.\n",
    "        eigenfaces (ndarray): Array of eigenfaces.\n",
    "        mean_face (ndarray): Average face.\n",
    "        face_db (ndarray): Database of faces projectected into Eigenface space.\n",
    "        \n",
    "    Returns:\n",
    "        index (uint): Position of the best matching face in face_db.\n",
    "    \"\"\"\n",
    "    index = -1\n",
    "\n",
    "\n",
    "    # center the face\n",
    "    centered = face - mean_face\n",
    "\n",
    "    # and project it into the eigenface space\n",
    "    projected = eigenfaces @ centered\n",
    "\n",
    "    # Now compute the similarity to all known faces\n",
    "    # (comparison is performed in the eigenface space)\n",
    "    distances = cdist(face_db, projected[None, :])\n",
    "    index = distances.argmin()\n",
    "\n",
    "\n",
    "\n",
    "    return index\n",
    "\n",
    "\n",
    "# ... and now check the function on the training set ...\n",
    "def show_recognition_results(imgs, labels, train_imgs, train_labels,\n",
    "                             num_eigenfaces, eigenfaces, mean_face, face_db):\n",
    "    \"\"\"Iterate over all face images and compute the best matching face in face_db.\n",
    "    \n",
    "    Args:\n",
    "        imgs (list): List of test faces.\n",
    "        train_imgs (list): List of training faces.\n",
    "        train_labels (list): List of training labels.\n",
    "        num_eigenfaces (uint): Number of eigenfaces.\n",
    "        eigenfaces (list): List of the eigenfaces.\n",
    "        mean_face (ndarray): Average face.\n",
    "        face_db (ndarray): Database of faces projectected into Eigenface space.\n",
    "        \n",
    "    Returns:\n",
    "    \n",
    "    \"\"\"\n",
    "    \n",
    "    img_shape = imgs[0].shape\n",
    "    plt.figure(figsize=(12, 12))\n",
    "    plt.suptitle(\n",
    "        'Face recognition based on {} principal components'.format(num_eigenfaces))\n",
    "    plt.gray()\n",
    "    for j, img in enumerate(imgs):\n",
    "\n",
    "        # find the best match in the eigenface database\n",
    "        winner = recognize_face(\n",
    "            img.reshape(np.prod(img_shape)), eigenfaces, mean_face, face_db)\n",
    "        name_label = labels[j][5:7]\n",
    "        name_winner = train_labels[winner][5:7]\n",
    "\n",
    "        plt.subplot(5, 8, 2 * j + 1)\n",
    "        plt.axis('off')\n",
    "        plt.imshow(img)\n",
    "        plt.title(labels[j][5:7])\n",
    "\n",
    "        plt.subplot(5, 8, 2 * j + 2)\n",
    "        plt.axis('off')\n",
    "        plt.imshow(train_imgs[winner])\n",
    "        t = plt.title(('*' if name_label != name_winner else '') + name_winner)\n",
    "        plt.setp(t, color='r' if name_label != name_winner else 'g') \n",
    "    plt.show()\n",
    "    \n",
    "show_recognition_results(train_imgs, train_names,\n",
    "                         train_imgs, train_names,\n",
    "                         num_eigenfaces, eigenfaces_used, \n",
    "                         mean_face, face_db)\n"
   ]
  },
  {
   "cell_type": "markdown",
   "id": "df0edb71",
   "metadata": {},
   "source": [
    "**e)** Now classify the images in directory `images/testimg/`. Try to reduce the number of principal components\n",
    "used. How many PCs are necessary to still achieve perfect classification?"
   ]
  },
  {
   "cell_type": "code",
   "execution_count": null,
   "id": "cdfcb989",
   "metadata": {
    "deletable": false,
    "nbgrader": {
     "cell_type": "code",
     "checksum": "fc8d190a5cd8113f50e0911b0f9eac45",
     "grade": true,
     "grade_id": "cell-47ccaee3973f6ac4",
     "locked": false,
     "points": 1,
     "schema_version": 3,
     "solution": true
    }
   },
   "outputs": [],
   "source": [
    "test_imgs, test_names = read_images_from_directory('images/testimg', suffix,\n",
    "                                                   img_shape)\n",
    "\n",
    "# YOUR CODE HERE"
   ]
  },
  {
   "cell_type": "markdown",
   "id": "1872d8b7",
   "metadata": {
    "deletable": false,
    "editable": false,
    "nbgrader": {
     "cell_type": "markdown",
     "checksum": "6d8d0af6853209ff061d36ffd2e0d5ea",
     "grade": false,
     "grade_id": "cell-433af82c3ad3533b",
     "locked": true,
     "schema_version": 3,
     "solution": false
    }
   },
   "source": [
    "## Exercise 5: Understanding the Wireframe-Model [5 points]\n",
    "\n",
    "This exercise addresses the matching procedure described on (CV-12 Model Based Recognition slides 9-17)"
   ]
  },
  {
   "cell_type": "markdown",
   "id": "4b01c530",
   "metadata": {
    "deletable": false,
    "editable": false,
    "nbgrader": {
     "cell_type": "markdown",
     "checksum": "ec8810ccd9e0f3035177865758f89c77",
     "grade": false,
     "grade_id": "cell-0b3896d77598ffeb",
     "locked": true,
     "schema_version": 3,
     "solution": false,
     "task": false
    }
   },
   "source": [
    "**a)** Explain in your own words the functions on slide  (CV-12 slide 9). Also explain when and why it may make sense to use $m$ instead of $m'$.\n"
   ]
  },
  {
   "cell_type": "markdown",
   "id": "970e3357",
   "metadata": {
    "deletable": false,
    "nbgrader": {
     "cell_type": "markdown",
     "checksum": "4c1492c64761670139be82a1732109a3",
     "grade": true,
     "grade_id": "cell-bacb3a7a7e5fc45d",
     "locked": false,
     "points": 1,
     "schema_version": 3,
     "solution": true,
     "task": false
    }
   },
   "source": [
    "YOUR ANSWER HERE"
   ]
  },
  {
   "cell_type": "markdown",
   "id": "92e053d2",
   "metadata": {
    "deletable": false,
    "editable": false,
    "nbgrader": {
     "cell_type": "markdown",
     "checksum": "f664a2d546be4164c10a8ab2b40cc746",
     "grade": false,
     "grade_id": "cell-4ca9815f8438dacd",
     "locked": true,
     "schema_version": 3,
     "solution": false,
     "task": false
    }
   },
   "source": [
    "**b)** Explain the fitness score $E_{si}$ and $E_l$. What do the arrows (CV-12 slide 11), e.g. $\\beta_j$ and $S_j$, indicate? What is the idea of $G(d)$?"
   ]
  },
  {
   "cell_type": "markdown",
   "id": "447070c5",
   "metadata": {
    "deletable": false,
    "nbgrader": {
     "cell_type": "markdown",
     "checksum": "d43868721aae715b10c3463c316ca960",
     "grade": true,
     "grade_id": "cell-56353d87181c759c",
     "locked": false,
     "points": 2,
     "schema_version": 3,
     "solution": true,
     "task": false
    }
   },
   "source": [
    "YOUR ANSWER HERE"
   ]
  },
  {
   "cell_type": "markdown",
   "id": "a9702190",
   "metadata": {
    "deletable": false,
    "editable": false,
    "nbgrader": {
     "cell_type": "markdown",
     "checksum": "852e9b932deb5d8537170dd15cbf8cda",
     "grade": false,
     "grade_id": "cell-b47bc76dc83866f3",
     "locked": true,
     "schema_version": 3,
     "solution": false,
     "task": false
    }
   },
   "source": [
    "**c)** Explain the goal of EDA (Estimation of Distribution Algorithm) and how it is performed in the context of the matching procedure."
   ]
  },
  {
   "cell_type": "markdown",
   "id": "e1021cde",
   "metadata": {
    "deletable": false,
    "nbgrader": {
     "cell_type": "markdown",
     "checksum": "1513750a454a516765b672c10b935fe2",
     "grade": true,
     "grade_id": "cell-a415fef187bc15ad",
     "locked": false,
     "points": 2,
     "schema_version": 3,
     "solution": true,
     "task": false
    }
   },
   "source": [
    "YOUR ANSWER HERE"
   ]
  },
  {
   "cell_type": "markdown",
   "id": "cfb110d0",
   "metadata": {
    "deletable": false,
    "editable": false,
    "nbgrader": {
     "cell_type": "markdown",
     "checksum": "63e8a8b9f4d2914a402554b67262ee43",
     "grade": false,
     "grade_id": "cell-1d40dc9fdb0bf40d",
     "locked": true,
     "schema_version": 3,
     "solution": false,
     "task": false
    }
   },
   "source": [
    "## Exercise 6: Histogram of Oriented Gradients (HOG) [3 points]\n",
    "\n",
    "The *Histogram of Oriented Gradients (HOG)* applied in the initial step of the wireframe matching procedure is also applied in other computer vision algorithms, especially in the context of object recognition. This exercise will examine this tool in a bit more detail."
   ]
  },
  {
   "cell_type": "markdown",
   "id": "adde9098",
   "metadata": {
    "deletable": false,
    "editable": false,
    "nbgrader": {
     "cell_type": "markdown",
     "checksum": "268e7cee9ef6d16a873895cacc9d2916",
     "grade": false,
     "grade_id": "cell-97dab94bb51c3f56",
     "locked": true,
     "schema_version": 3,
     "solution": false,
     "task": false
    }
   },
   "source": [
    "**a)** Explain the idea of the histogram of oriented gradients. How can it be applied to analyze images? Think how this idea may be used to recognize objects?"
   ]
  },
  {
   "cell_type": "markdown",
   "id": "98276b06",
   "metadata": {
    "deletable": false,
    "nbgrader": {
     "cell_type": "markdown",
     "checksum": "90e9c742cbcd8f72062be85df7dcddca",
     "grade": true,
     "grade_id": "cell-d8b32d15ead04253",
     "locked": false,
     "points": 0.5,
     "schema_version": 3,
     "solution": true,
     "task": false
    }
   },
   "source": [
    "YOUR ANSWER HERE"
   ]
  },
  {
   "cell_type": "markdown",
   "id": "6b98a1be",
   "metadata": {
    "deletable": false,
    "editable": false,
    "nbgrader": {
     "cell_type": "markdown",
     "checksum": "9a6ab67ea8b799e2b785411feba153e8",
     "grade": false,
     "grade_id": "cell-10c3d543e2b137f7",
     "locked": true,
     "schema_version": 3,
     "solution": false,
     "task": false
    }
   },
   "source": [
    "**b)** The Scikit-image library provides the function [`hog`](https://scikit-image.org/docs/dev/auto_examples/features_detection/plot_hog.html) that can compute histograms of oriented gradients and offers also an option to construct a visualization. Run the following code cell and then describe your observations in the text cell below:"
   ]
  },
  {
   "cell_type": "code",
   "execution_count": null,
   "id": "20fd6987",
   "metadata": {},
   "outputs": [],
   "source": [
    "%matplotlib notebook\n",
    "\n",
    "import matplotlib.pyplot as plt\n",
    "from skimage.feature import hog\n",
    "from skimage import data, exposure\n",
    "from skimage.transform import resize\n",
    "import numpy as np\n",
    "import imageio\n",
    "\n",
    "image = imageio.imread('./images/truck.jpeg')\n",
    "image = resize(image,(700,1000),preserve_range=True).astype(np.uint8)\n",
    "\n",
    "fd, hog_image = hog(image,feature_vector=False,visualize=True, multichannel=True)\n",
    "#multichannel is depcricated starting from skimage 0.19.0, use channel_axis instead\n",
    "#fd, hog_image = hog(image,feature_vector=False,visualize=True, channel_axis=2)\n",
    "\n",
    "# Display the result\n",
    "fig, (ax1, ax2, ax3) = plt.subplots(3,1, figsize=(8, 12))\n",
    "\n",
    "ax1.axis('off')\n",
    "ax1.imshow(image, cmap=plt.cm.gray)\n",
    "ax1.set_title('Input image')\n",
    "\n",
    "# Rescale histogram for better display\n",
    "hog_image_rescaled = exposure.rescale_intensity(hog_image, in_range=(0, 10))\n",
    "\n",
    "ax2.axis('off')\n",
    "ax2.imshow(hog_image_rescaled, cmap=plt.cm.gray)\n",
    "ax2.set_title('Histogram of Oriented Gradients')\n",
    "plt.show()\n",
    "\n",
    "bars = ax3.bar(np.linspace(0,180,fd.shape[-1]),fd[0,0,0,0],width=(180/fd.shape[-1]))\n",
    "\n",
    "plt.tight_layout()\n",
    "plt.show()\n",
    "\n",
    "def on_press(event):\n",
    "    \"\"\"Mouse button press event handler\n",
    "    Args:\n",
    "    event: The mouse event\n",
    "    \"\"\"\n",
    "    x, y = int(event.xdata)//8, int(event.ydata)//8\n",
    "    \n",
    "    cell_x = x - fd.shape[1] if x >= fd.shape[1] else 0\n",
    "    x = min(x,fd.shape[1]-1)\n",
    "    cell_y = y - fd.shape[0] if y >= fd.shape[0] else 0\n",
    "    y = min(y,fd.shape[0]-1)\n",
    "    ax3.clear()\n",
    "    ax3.set_title(f\"x={x} [{cell_x}], y={y} [{cell_y}], {fd.shape}\")\n",
    "    ax3.bar(np.linspace(0,180,fd.shape[-1]),fd[y,x,cell_y,cell_x],width=(180/fd.shape[-1]))\n",
    "    fig.canvas.draw()\n",
    "\n",
    "cid = fig.canvas.mpl_connect('button_press_event', on_press)"
   ]
  },
  {
   "cell_type": "markdown",
   "id": "4d7423d7",
   "metadata": {
    "deletable": false,
    "nbgrader": {
     "cell_type": "markdown",
     "checksum": "717f6fe8ebe321e58d94c7d18417b59f",
     "grade": true,
     "grade_id": "cell-31e8b8c6a964c63a",
     "locked": false,
     "points": 0.5,
     "schema_version": 3,
     "solution": true,
     "task": false
    }
   },
   "source": [
    "YOUR ANSWER HERE"
   ]
  },
  {
   "cell_type": "markdown",
   "id": "c9d3a0e7",
   "metadata": {
    "deletable": false,
    "editable": false,
    "nbgrader": {
     "cell_type": "markdown",
     "checksum": "b0a86a1ce2f6b150ce29010f25c2eb47",
     "grade": false,
     "grade_id": "cell-882e8894af9db5c0",
     "locked": true,
     "schema_version": 3,
     "solution": false,
     "task": false
    }
   },
   "source": [
    "**c)** Implement your own version of the histogram of oriented gradients function. You may proceed in the following steps:\n",
    "1. Compute the gradient image and determine magnitude and direction of gradients.\n",
    "2. Divide the image into cells and compute a weighted histogram for each cell.\n",
    "3. Use the function to [`plt.quiver`](https://matplotlib.org/api/_as_gen/matplotlib.pyplot.quiver.html) to display your results (already implemented)."
   ]
  },
  {
   "cell_type": "code",
   "execution_count": null,
   "id": "4c1d5a26",
   "metadata": {
    "deletable": false,
    "nbgrader": {
     "cell_type": "code",
     "checksum": "541b37baf8b71a38828133317c2530fa",
     "grade": true,
     "grade_id": "cell-12fe45a690d01a6c",
     "locked": false,
     "points": 1,
     "schema_version": 3,
     "solution": true,
     "task": false
    }
   },
   "outputs": [],
   "source": [
    "# Step 1: compute gradients\n",
    "\n",
    "%matplotlib inline\n",
    "import numpy as np\n",
    "import imageio\n",
    "import matplotlib.pyplot as plt\n",
    "from skimage.color import rgb2gray\n",
    "\n",
    "\n",
    "def image_gradients(image):\n",
    "    \"\"\"Compute graident magnitudes and directions for a given image.\n",
    "    \n",
    "    Input:\n",
    "        image: an numpy.ndarray of shape (HEIGHT, WIDTH)\n",
    "    Result:\n",
    "        magnitude, direction: two numpy.ndarrays of the same shape as image,\n",
    "        holding gradient magnitudes and directions, respectively.\n",
    "    \"\"\"\n",
    "    # Hint: you may ues the sobel function to obtain x- and y- gradients\n",
    "    magnitude = np.zeros_like(image, dtype=np.float32)\n",
    "    direction = np.zeros_like(image, dtype=np.float32)\n",
    "    # YOUR CODE HERE\n",
    "    return magnitude, direction\n",
    "\n",
    "image = rgb2gray(imageio.imread('./images/car.png').astype(np.uint8))\n",
    "magnitude, direction = image_gradients(image)\n",
    "\n",
    "plt.figure(figsize=(12,6))\n",
    "plt.gray()\n",
    "plt.subplot(1,2,1); plt.title(\"Image\")\n",
    "plt.imshow(image)\n",
    "plt.subplot(1,2,2); plt.title(\"Gradient magnitude\")\n",
    "plt.imshow(magnitude)\n",
    "plt.show()"
   ]
  },
  {
   "cell_type": "code",
   "execution_count": null,
   "id": "4682ac15",
   "metadata": {
    "deletable": false,
    "nbgrader": {
     "cell_type": "code",
     "checksum": "6cdf5bd58825845cb710e2719f132d18",
     "grade": true,
     "grade_id": "cell-c8e5a429fe49742e",
     "locked": false,
     "points": 1,
     "schema_version": 3,
     "solution": true,
     "task": false
    }
   },
   "outputs": [],
   "source": [
    "# Step 2: compute the histograms\n",
    "\n",
    "def histogram_of_oriented_gradients(image, cell_size=(16,16), bins=9):\n",
    "    \"\"\"Compute histograms of oriented gradients for an image.\n",
    "    Input:\n",
    "        image: image: an numpy.ndarray of shape (HEIGHT, WIDTH)\n",
    "        cell_size: the size of individual cells into which the image is divided\n",
    "        bins: the number of bins per histogram\n",
    "    Result:\n",
    "        An np.ndarray of shape (CELL_ROWS, CELL_COLUMNS, BINS) containing\n",
    "        the histograms for the individual cells\n",
    "    \"\"\"\n",
    "    # Hint: you may use np.histogram() here\n",
    "    rows, columns = image.shape[0]//cell_size[0], image.shape[1]//cell_size[1]\n",
    "    hog = np.zeros((rows, columns, bins))\n",
    "    magnitude, direction = image_gradients(image)\n",
    "    # YOUR CODE HERE\n",
    "    return hog\n",
    "\n",
    "hog = histogram_of_oriented_gradients(image)"
   ]
  },
  {
   "cell_type": "code",
   "execution_count": null,
   "id": "84d1a366",
   "metadata": {
    "deletable": false,
    "editable": false,
    "nbgrader": {
     "cell_type": "code",
     "checksum": "808b91ddf4bc8bbd966109684729e83e",
     "grade": false,
     "grade_id": "cell-02ebf1639aa8ee00",
     "locked": true,
     "schema_version": 3,
     "solution": false,
     "task": false
    }
   },
   "outputs": [],
   "source": [
    "# Step 3: display your results\n",
    "\n",
    "%matplotlib inline\n",
    "import matplotlib.pyplot as plt\n",
    "import numpy as np\n",
    "\n",
    "cell_size=(8,8)\n",
    "hog = histogram_of_oriented_gradients(image, cell_size=cell_size)\n",
    "\n",
    "plt.figure(figsize=(12,12))\n",
    "plt.gca().set_aspect('equal')\n",
    "plt.gca().invert_yaxis()\n",
    "\n",
    "y, x = np.arange(hog.shape[0])*cell_size[0], np.arange(hog.shape[1])*cell_size[1]\n",
    "for angle in range(hog.shape[-1]):\n",
    "    rad = angle * np.pi / hog.shape[-1]\n",
    "    u = hog[:,:,angle] * np.sin(rad)\n",
    "    v = hog[:,:,angle] * np.cos(rad)\n",
    "    plt.quiver(x,y,u,v,scale=200.)\n",
    "    plt.quiver(x,y,-u,-v,scale=200.)\n",
    "\n",
    "plt.show()"
   ]
  }
 ],
 "metadata": {
  "kernelspec": {
   "display_name": "Python 3 (ipykernel)",
   "language": "python",
   "name": "python3"
  },
  "language_info": {
   "codemirror_mode": {
    "name": "ipython",
    "version": 3
   },
   "file_extension": ".py",
   "mimetype": "text/x-python",
   "name": "python",
   "nbconvert_exporter": "python",
   "pygments_lexer": "ipython3",
   "version": "3.10.1"
  }
 },
 "nbformat": 4,
 "nbformat_minor": 5
}
