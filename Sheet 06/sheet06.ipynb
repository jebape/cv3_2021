{
 "cells": [
  {
   "cell_type": "markdown",
   "id": "dc682a7f",
   "metadata": {
    "deletable": false,
    "editable": false,
    "nbgrader": {
     "cell_type": "markdown",
     "checksum": "c3fada1a5362f40bda23390d32cc783d",
     "grade": false,
     "grade_id": "cell-de39bb650c40958d",
     "locked": true,
     "schema_version": 3,
     "solution": false
    }
   },
   "source": [
    "Osnabrück University - Computer Vision (Winter Term 2021/22) - Prof. Dr.-Ing. G. Heidemann, Ulf Krumnack, Axel Schaffland"
   ]
  },
  {
   "cell_type": "markdown",
   "id": "232be283",
   "metadata": {
    "deletable": false,
    "editable": false,
    "nbgrader": {
     "cell_type": "markdown",
     "checksum": "41af0be6fd2ac0239a68465da14e83b2",
     "grade": false,
     "grade_id": "cell-2996ef56280eb17f",
     "locked": true,
     "schema_version": 3,
     "solution": false
    }
   },
   "source": [
    "# Exercise Sheet 06: Hough Transform"
   ]
  },
  {
   "cell_type": "markdown",
   "id": "751fb54e",
   "metadata": {
    "deletable": false,
    "editable": false,
    "nbgrader": {
     "cell_type": "markdown",
     "checksum": "5c3e5d7d3e589918bd9b1adf0f0de390",
     "grade": false,
     "grade_id": "cell-4afea340e25d6043",
     "locked": true,
     "schema_version": 3,
     "solution": false
    }
   },
   "source": [
    "## Introduction\n",
    "\n",
    "This week's sheet should be solved and handed in before **14:00 of Tuesday, December 14, 2021**. If you need help (and Google and other resources were not enough), feel free to contact your groups' designated tutor or whomever of us you run into first. Please upload your results to your group's Stud.IP folder.\n",
    "\n",
    "**HINT: There is a bonus exercise in the end. If you do this bonus exercise you may leave out one of the other exercises.**"
   ]
  },
  {
   "cell_type": "markdown",
   "id": "5eec4bab",
   "metadata": {
    "deletable": false,
    "editable": false,
    "nbgrader": {
     "cell_type": "markdown",
     "checksum": "ad3ba1c4e9d641050eb9c7e2e621f9e0",
     "grade": false,
     "grade_id": "cell-0ceaa7378e4a713d",
     "locked": true,
     "schema_version": 3,
     "solution": false
    }
   },
   "source": [
    "## Assignment 0: Math recap (Eigenvectors and Eigenvalues) [0 Points]\n",
    "\n",
    "This exercise is supposed to be very easy, does not give any points, and is voluntary. There will be a similar exercise on every sheet. It is intended to revise some basic mathematical notions that are assumed throughout this class and to allow you to check if you are comfortable with them. Usually you should have no problem to answer these questions offhand, but if you feel unsure, this is a good time to look them up again. You are always welcome to discuss questions with the tutors or in the practice session. Also, if you have a (math) topic you would like to recap, please let us know."
   ]
  },
  {
   "cell_type": "markdown",
   "id": "3093e169",
   "metadata": {
    "deletable": false,
    "editable": false,
    "nbgrader": {
     "cell_type": "markdown",
     "checksum": "73f5890da9ce4d25e9e3792583ebb627",
     "grade": false,
     "grade_id": "cell-106b918b6f9c6fea",
     "locked": true,
     "schema_version": 3,
     "solution": false
    }
   },
   "source": [
    "**a)** What is an eigenvector of a matrix/a linear mapping? What are eigenvalues?"
   ]
  },
  {
   "cell_type": "markdown",
   "id": "5082417f",
   "metadata": {
    "deletable": false,
    "nbgrader": {
     "cell_type": "markdown",
     "checksum": "36475d2d0f85070bc2f5c7617633e228",
     "grade": true,
     "grade_id": "cell-f80e2cfbc5dae96a",
     "locked": false,
     "points": 0,
     "schema_version": 3,
     "solution": true
    },
    "solution": true
   },
   "source": [
    "YOUR ANSWER HERE"
   ]
  },
  {
   "cell_type": "markdown",
   "id": "707a9457",
   "metadata": {
    "deletable": false,
    "editable": false,
    "nbgrader": {
     "cell_type": "markdown",
     "checksum": "a3e11c3b58acdf8bea3841ff97bc910b",
     "grade": false,
     "grade_id": "cell-10c6f038150609e1",
     "locked": true,
     "schema_version": 3,
     "solution": false
    }
   },
   "source": [
    "**b)** What is the characteristic polynomial of a matrix? How is it related to eigenvalues? What are algebraic and geometric multiplicity of an eigenvalue?"
   ]
  },
  {
   "cell_type": "markdown",
   "id": "0d036ae2",
   "metadata": {
    "deletable": false,
    "nbgrader": {
     "cell_type": "markdown",
     "checksum": "4ff3d7e15d56e4dbc54eaef465500577",
     "grade": true,
     "grade_id": "cell-c45db6ae30a5507a",
     "locked": false,
     "points": 0,
     "schema_version": 3,
     "solution": true
    },
    "solution": true
   },
   "source": [
    "YOUR ANSWER HERE"
   ]
  },
  {
   "cell_type": "markdown",
   "id": "12fcb6cd",
   "metadata": {
    "deletable": false,
    "editable": false,
    "nbgrader": {
     "cell_type": "markdown",
     "checksum": "68f4221888e27427dc63c2e414edcf35",
     "grade": false,
     "grade_id": "cell-7822385798587c45",
     "locked": true,
     "schema_version": 3,
     "solution": false
    }
   },
   "source": [
    "**c)** What is the spectrum of a matrix? What does the spectral theorem state?"
   ]
  },
  {
   "cell_type": "markdown",
   "id": "996ffce9",
   "metadata": {
    "deletable": false,
    "nbgrader": {
     "cell_type": "markdown",
     "checksum": "94696dd22018d912b2a84a73c0a13030",
     "grade": true,
     "grade_id": "cell-1a5e17baf68e02e1",
     "locked": false,
     "points": 0,
     "schema_version": 3,
     "solution": true
    },
    "solution": true
   },
   "source": [
    "YOUR ANSWER HERE"
   ]
  },
  {
   "cell_type": "markdown",
   "id": "1eae711f",
   "metadata": {
    "deletable": false,
    "editable": false,
    "nbgrader": {
     "cell_type": "markdown",
     "checksum": "2009461a626ca1c13fce0cf5ca586c80",
     "grade": false,
     "grade_id": "math-eigen-q4",
     "locked": true,
     "schema_version": 3,
     "solution": false
    }
   },
   "source": [
    "**d)** [bonus task]: Numpy/Scipy provide functions to compute eigenvalues. Lookup these functions and apply them to an example."
   ]
  },
  {
   "cell_type": "code",
   "execution_count": null,
   "id": "b9e4a0c1",
   "metadata": {
    "deletable": false,
    "nbgrader": {
     "cell_type": "code",
     "checksum": "921f072e460d78509d4e2626c8d1008f",
     "grade": true,
     "grade_id": "cell-2400c166c6ecc90d",
     "locked": false,
     "points": 0,
     "schema_version": 3,
     "solution": true
    }
   },
   "outputs": [],
   "source": [
    "# YOUR CODE HERE"
   ]
  },
  {
   "cell_type": "markdown",
   "id": "e3c83fb8",
   "metadata": {
    "deletable": false,
    "editable": false,
    "nbgrader": {
     "cell_type": "markdown",
     "checksum": "7239677a763a755e58ad30027bec8f20",
     "grade": false,
     "grade_id": "cell-ad502c82c65ccfd0",
     "locked": true,
     "schema_version": 3,
     "solution": false
    }
   },
   "source": [
    "## Assignment 1: Hough transform [7 Points]"
   ]
  },
  {
   "cell_type": "markdown",
   "id": "f13b333e",
   "metadata": {
    "deletable": false,
    "editable": false,
    "nbgrader": {
     "cell_type": "markdown",
     "checksum": "5c8f74cdf6770a4bde2badf5812875a9",
     "grade": false,
     "grade_id": "cell-d69bae3b8a2948c3",
     "locked": true,
     "schema_version": 3,
     "solution": false
    }
   },
   "source": [
    "**a)** Explain in your own words the idea of Hough transform in general. What is an accumulator space? In what sense can the Hough transform be seen as a model-based approach?"
   ]
  },
  {
   "cell_type": "markdown",
   "id": "205b3616",
   "metadata": {
    "deletable": false,
    "nbgrader": {
     "cell_type": "markdown",
     "checksum": "619ffa938e63c4b8b9f9c1edf59b411d",
     "grade": true,
     "grade_id": "cell-33d2738315906735",
     "locked": false,
     "points": 1,
     "schema_version": 3,
     "solution": true
    },
    "solution": true
   },
   "source": [
    "YOUR ANSWER HERE"
   ]
  },
  {
   "cell_type": "markdown",
   "id": "3c5e6adf",
   "metadata": {
    "deletable": false,
    "editable": false,
    "nbgrader": {
     "cell_type": "markdown",
     "checksum": "27636dee965f00179367e195e90f54ab",
     "grade": false,
     "grade_id": "hough-linear-q3",
     "locked": true,
     "schema_version": 3,
     "solution": false
    }
   },
   "source": [
    "**b)** What is linear Hough transform? What does a point in the linear Hough space represent? Explain the meaning of the two coordinates."
   ]
  },
  {
   "cell_type": "markdown",
   "id": "07276b5b",
   "metadata": {
    "deletable": false,
    "nbgrader": {
     "cell_type": "markdown",
     "checksum": "721ac28469cb07d7233adc1e78e1badb",
     "grade": true,
     "grade_id": "hough-linear-a3",
     "locked": false,
     "points": 2,
     "schema_version": 3,
     "solution": true
    },
    "solution": true
   },
   "source": [
    "YOUR ANSWER HERE"
   ]
  },
  {
   "cell_type": "markdown",
   "id": "2cec1113",
   "metadata": {
    "deletable": false,
    "editable": false,
    "nbgrader": {
     "cell_type": "markdown",
     "checksum": "5b92c2b5922d12383349d08206d8fbfb",
     "grade": false,
     "grade_id": "cell-7529e0d0a6dae3cf",
     "locked": true,
     "schema_version": 3,
     "solution": false
    }
   },
   "source": [
    "**c)**  How are points, lines, polygons transformed by linear Hough transform? What about parallel lines? Try different configurations using the functions `point`, `line`, `polygon` below. Use the function `skimage.transform.hough_line` to display these examples. You may use the code of Assignment 2 to check\n",
    "different configurations interactively."
   ]
  },
  {
   "cell_type": "markdown",
   "id": "ed5bc387",
   "metadata": {
    "deletable": false,
    "nbgrader": {
     "cell_type": "markdown",
     "checksum": "f46e3fe46a9e5dd9f57a631a2eda6581",
     "grade": true,
     "grade_id": "cell-5a226552bbd8355b",
     "locked": false,
     "points": 1,
     "schema_version": 3,
     "solution": true
    },
    "solution": true
   },
   "source": [
    "YOUR ANSWER HERE"
   ]
  },
  {
   "cell_type": "code",
   "execution_count": 5,
   "id": "8f498489",
   "metadata": {
    "deletable": false,
    "nbgrader": {
     "cell_type": "code",
     "checksum": "cd5d8ecfe6ffbf1a29f50b78bc6abf82",
     "grade": true,
     "grade_id": "cell-4542d093b51781ef",
     "locked": false,
     "points": 1,
     "schema_version": 3,
     "solution": true
    }
   },
   "outputs": [
    {
     "data": {
      "image/png": "[encoded data removed]",
      "text/plain": [
       "<Figure size 864x288 with 2 Axes>"
      ]
     },
     "metadata": {
      "needs_background": "light"
     },
     "output_type": "display_data"
    }
   ],
   "source": [
    "from skimage.transform import hough_line\n",
    "from skimage.transform import resize\n",
    "import matplotlib.pyplot as plt\n",
    "%matplotlib inline\n",
    "import numpy as np\n",
    "\n",
    "steps = lambda p,q : max(map(lambda x,y: abs(x-y), p, q))+1\n",
    "coords = lambda p,q,s : tuple([np.linspace(x,y,s,dtype=np.uint16) for x,y in zip(p,q)])\n",
    "\n",
    "def point(img, p):\n",
    "    \"\"\"Insert a point in the black/white image at position p\n",
    "    \n",
    "    Args:\n",
    "        img (ndarray): Input image.\n",
    "        p (tuple): Coordinate of point.\n",
    "    \n",
    "    Returns:\n",
    "    \n",
    "    \"\"\"\n",
    "    img[p] = 1\n",
    "\n",
    "def line(img, p, q):\n",
    "    \"\"\"Insert a line from p to q in the black/white image\n",
    "    \n",
    "    Args:\n",
    "        img (ndarray): Input image.\n",
    "        p (tuple): Coordinate of start position.\n",
    "        q (tuple): Coordinate of end position.\n",
    "    \n",
    "    Returns:\n",
    "    \n",
    "    \"\"\"\n",
    "    img[coords(p,q,steps(p,q))] = 1\n",
    "\n",
    "def polygon(img, vertices):\n",
    "    \"\"\"Insert a (closed) polygon given by a list of points into the black/white image\n",
    "    \n",
    "    Args:\n",
    "        img (ndarray): Input image.\n",
    "        vertices (list): List of coordinate tuples.\n",
    "    \n",
    "    Returns:\n",
    "    \n",
    "    \"\"\"\n",
    "    for p, q in zip(vertices, vertices[1:]+vertices[0:1]):\n",
    "        line(img,p,q)\n",
    "\n",
    "img = np.zeros((100,100))\n",
    "\n",
    "point(img, (30,60))\n",
    "polygon(img, [(20,20),(60,30),(80,80)])\n",
    "\n",
    "fig, [ax1, ax2] = plt.subplots(1,2, figsize=(12,4))\n",
    "\n",
    "plt.gray()\n",
    "ax1.set_title('Image'); \n",
    "ax1.imshow(img, origin = 'lower')\n",
    "\n",
    "out, angles, d = hough_line(img)\n",
    "\n",
    "# scale output to quadratic image\n",
    "out_resized = resize(out, (out.shape[0], out.shape[0]), anti_aliasing=True, preserve_range=True)\n",
    "ax2.set_title('Hough transform (skimage)');\n",
    "ax2.set_xlabel('Angles (degrees)')\n",
    "ax2.set_ylabel('Distance (pixels)')\n",
    "ax2.imshow(np.log(1 + out_resized), origin = 'lower', cmap='gray')\n",
    "\n",
    "ax2.set_yticks(np.linspace(0, out.shape[0], 7))\n",
    "ax2.set_yticklabels((-1 * np.linspace(d[-1], d[0], 7)).astype(int))\n",
    "ax2.set_xticks(np.linspace(0, out.shape[0], 5))\n",
    "ax2.set_xticklabels(np.linspace(np.rad2deg(angles[0]), np.rad2deg(angles[-1]), 5).astype(int))\n",
    "\n",
    "\n",
    "plt.show()"
   ]
  },
  {
   "cell_type": "markdown",
   "id": "477cd17c",
   "metadata": {
    "deletable": false,
    "editable": false,
    "nbgrader": {
     "cell_type": "markdown",
     "checksum": "7c7dc283b9fe3be27e979d14d7d91591",
     "grade": false,
     "grade_id": "cell-84df828a5207aa4a",
     "locked": true,
     "schema_version": 3,
     "solution": false
    }
   },
   "source": [
    "## Assignment 2: Interactive Hough transform [1 Point] "
   ]
  },
  {
   "cell_type": "markdown",
   "id": "513f5799",
   "metadata": {},
   "source": [
    "The following code block implements an interactive Hough transform, in which you can either draw points or lines and can see the resulting Hough transform immediately. Draw different shapes of points or lines and check the resulting Hough transform. Try to predict the outcome of the transformation!"
   ]
  },
  {
   "cell_type": "code",
   "execution_count": null,
   "id": "1048152e",
   "metadata": {
    "deletable": false,
    "nbgrader": {
     "cell_type": "code",
     "checksum": "9af3772be5fcc4812bfbb9a24a6d5caf",
     "grade": true,
     "grade_id": "cell-intact-hough",
     "locked": false,
     "points": 1,
     "schema_version": 3,
     "solution": true,
     "task": false
    }
   },
   "outputs": [],
   "source": [
    "%matplotlib notebook\n",
    "from skimage.transform import hough_line\n",
    "import matplotlib.pyplot as plt\n",
    "import numpy as np\n",
    "\n",
    "# True if two mouse clicks should draw a line, false if single clicks draw points\n",
    "lines = True\n",
    "\n",
    "\n",
    "steps = lambda p,q : max(map(lambda x,y: abs(x-y), p, q))+1\n",
    "coords = lambda p,q,s : tuple([np.linspace(x,y,s,dtype=np.uint16) for x,y in zip(p,q)])\n",
    "img = np.zeros((200,200))\n",
    "\n",
    "\n",
    "def line(img, p, q):\n",
    "    \"\"\"Insert a line from p to q in the black/white image\n",
    "    \n",
    "    Args:\n",
    "        img (ndarray): Input image.\n",
    "        p (tuple): Coordinate of start position.\n",
    "        q (tuple): Coordinate of end position.\n",
    "    \n",
    "    Returns:\n",
    "    \n",
    "    \"\"\"\n",
    "    img[coords(p,q,steps(p,q))] = 1\n",
    "    \n",
    "\n",
    "def disp_and_comp():\n",
    "    \"\"\"Computes Line Hough transform; displays image and result\n",
    "    \n",
    "    Args:\n",
    "    \n",
    "    Returns:\n",
    "    \n",
    "    \"\"\"\n",
    "    ax1.imshow(img, origin = 'lower', cmap='gray')\n",
    "    \n",
    "    out, angles, d = hough_line(img)\n",
    "    \n",
    "    out_resized = resize(out, (out.shape[0], out.shape[0]), anti_aliasing=True, preserve_range=True)\n",
    "    ax2.imshow(np.log(1 + out_resized), origin = 'lower', cmap='gray')\n",
    "    ax2.set_yticks(np.linspace(0, out.shape[0], 7))\n",
    "    ax2.set_yticklabels((-1 * np.linspace(d[-1], d[0], 7)).astype(int))\n",
    "    ax2.set_xticks(np.linspace(0, out.shape[0], 5))\n",
    "    ax2.set_xticklabels(np.linspace(np.rad2deg(angles[0]), np.rad2deg(angles[-1]), 5).astype(int))\n",
    "    \n",
    "    fig.canvas.draw()\n",
    "\n",
    "    \n",
    "first_point = True\n",
    "p1 = (0,0)\n",
    "def on_press(event):\n",
    "    \"\"\"Draws either line or point and calls disp_and_comp\n",
    "    \n",
    "    Reacts to mouse clicks. Draws either point at mouse\n",
    "    position and computes Hough transform or draws line\n",
    "    between first and second mouse click and then computes\n",
    "    hough transfom.\n",
    "    \n",
    "    Args:\n",
    "        event (event): Mouseevent.\n",
    "    \n",
    "    Returns:\n",
    "    \n",
    "    \"\"\"\n",
    "    global p1, first_point\n",
    "    y = int(event.xdata)\n",
    "    x = int(event.ydata)\n",
    "    \n",
    "    if (lines):\n",
    "        if (first_point):\n",
    "            p1 = (x,y)\n",
    "            img[x, y] = 255\n",
    "            first_point = False\n",
    "        else:\n",
    "            line(img,p1,(x,y)) \n",
    "            first_point = True\n",
    "        disp_and_comp()\n",
    "    else:\n",
    "        img[x, y] = 255\n",
    "        disp_and_comp()\n",
    "    \n",
    "    \n",
    "\n",
    "fig = plt.figure(figsize=(8, 6))\n",
    "\n",
    "ax1 = fig.add_subplot(121)\n",
    "plt.title('Image')\n",
    "\n",
    "ax2 = fig.add_subplot(122)\n",
    "plt.title('Hough transform');\n",
    "plt.xlabel('Angles (degrees)')\n",
    "plt.ylabel('Distance (pixels)')\n",
    "\n",
    "\n",
    "disp_and_comp()\n",
    "#plt.axis('square')\n",
    "fig.canvas.mpl_connect('button_press_event', on_press)\n",
    "\n",
    "# YOUR CODE HERE"
   ]
  },
  {
   "cell_type": "markdown",
   "id": "baf37e5a",
   "metadata": {
    "deletable": false,
    "editable": false,
    "nbgrader": {
     "cell_type": "markdown",
     "checksum": "d747b4201d1f1fef1892bb247db6c75a",
     "grade": false,
     "grade_id": "hough-impl",
     "locked": true,
     "schema_version": 3,
     "solution": false
    }
   },
   "source": [
    "## Assignment 3: Implementing Hough transform [7 Points]"
   ]
  },
  {
   "cell_type": "markdown",
   "id": "d87e6681",
   "metadata": {
    "deletable": false,
    "editable": false,
    "nbgrader": {
     "cell_type": "markdown",
     "checksum": "8f9c483446fa35e55b028ba27258cd10",
     "grade": false,
     "grade_id": "hough-impl-q1",
     "locked": true,
     "schema_version": 3,
     "solution": false
    }
   },
   "source": [
    "**a)** Implement your own version of linear Hough transform and compare the results with the function `skimage.transform.hough_line`."
   ]
  },
  {
   "cell_type": "code",
   "execution_count": 12,
   "id": "d3e7fe50",
   "metadata": {
    "deletable": false,
    "nbgrader": {
     "cell_type": "code",
     "checksum": "b39088bef0ab3cf523d2bd099883bdd4",
     "grade": true,
     "grade_id": "cell-0855a82e8c3d47ce0",
     "locked": false,
     "points": 3,
     "schema_version": 3,
     "solution": true
    }
   },
   "outputs": [
    {
     "ename": "TypeError",
     "evalue": "'numpy.float64' object cannot be interpreted as an integer",
     "output_type": "error",
     "traceback": [
      "\u001b[1;31m---------------------------------------------------------------------------\u001b[0m",
      "\u001b[1;31mTypeError\u001b[0m                                 Traceback (most recent call last)",
      "\u001b[1;32m<ipython-input-12-7cc42a2edebf>\u001b[0m in \u001b[0;36m<module>\u001b[1;34m\u001b[0m\n\u001b[0;32m     73\u001b[0m \u001b[1;33m\u001b[0m\u001b[0m\n\u001b[0;32m     74\u001b[0m \u001b[1;31m# own implementation\u001b[0m\u001b[1;33m\u001b[0m\u001b[1;33m\u001b[0m\u001b[1;33m\u001b[0m\u001b[0m\n\u001b[1;32m---> 75\u001b[1;33m \u001b[0mmy_out\u001b[0m \u001b[1;33m=\u001b[0m \u001b[0mmy_hough_line\u001b[0m\u001b[1;33m(\u001b[0m\u001b[0mimg\u001b[0m\u001b[1;33m)\u001b[0m\u001b[1;33m\u001b[0m\u001b[1;33m\u001b[0m\u001b[0m\n\u001b[0m\u001b[0;32m     76\u001b[0m \u001b[1;33m\u001b[0m\u001b[0m\n\u001b[0;32m     77\u001b[0m \u001b[0mmy_out_resized\u001b[0m \u001b[1;33m=\u001b[0m \u001b[0mresize\u001b[0m\u001b[1;33m(\u001b[0m\u001b[0mout\u001b[0m\u001b[1;33m,\u001b[0m \u001b[1;33m(\u001b[0m\u001b[0mout\u001b[0m\u001b[1;33m.\u001b[0m\u001b[0mshape\u001b[0m\u001b[1;33m[\u001b[0m\u001b[1;36m0\u001b[0m\u001b[1;33m]\u001b[0m\u001b[1;33m,\u001b[0m \u001b[0mout\u001b[0m\u001b[1;33m.\u001b[0m\u001b[0mshape\u001b[0m\u001b[1;33m[\u001b[0m\u001b[1;36m0\u001b[0m\u001b[1;33m]\u001b[0m\u001b[1;33m)\u001b[0m\u001b[1;33m,\u001b[0m \u001b[0manti_aliasing\u001b[0m\u001b[1;33m=\u001b[0m\u001b[1;32mTrue\u001b[0m\u001b[1;33m,\u001b[0m \u001b[0mpreserve_range\u001b[0m\u001b[1;33m=\u001b[0m\u001b[1;32mTrue\u001b[0m\u001b[1;33m)\u001b[0m\u001b[1;33m\u001b[0m\u001b[1;33m\u001b[0m\u001b[0m\n",
      "\u001b[1;32m<ipython-input-12-7cc42a2edebf>\u001b[0m in \u001b[0;36mmy_hough_line\u001b[1;34m(img, angles)\u001b[0m\n\u001b[0;32m     23\u001b[0m                                    img.shape[1] * img.shape[1]))\n\u001b[0;32m     24\u001b[0m     \u001b[0mmax_distance\u001b[0m \u001b[1;33m=\u001b[0m \u001b[1;36m2\u001b[0m \u001b[1;33m*\u001b[0m \u001b[0moffset\u001b[0m \u001b[1;33m+\u001b[0m \u001b[1;36m1\u001b[0m\u001b[1;33m\u001b[0m\u001b[1;33m\u001b[0m\u001b[0m\n\u001b[1;32m---> 25\u001b[1;33m     \u001b[0maccum\u001b[0m \u001b[1;33m=\u001b[0m \u001b[0mnp\u001b[0m\u001b[1;33m.\u001b[0m\u001b[0mzeros\u001b[0m\u001b[1;33m(\u001b[0m\u001b[1;33m(\u001b[0m\u001b[0mmax_distance\u001b[0m\u001b[1;33m,\u001b[0m \u001b[0mangles\u001b[0m\u001b[1;33m)\u001b[0m\u001b[1;33m,\u001b[0m \u001b[0mdtype\u001b[0m\u001b[1;33m=\u001b[0m\u001b[0mnp\u001b[0m\u001b[1;33m.\u001b[0m\u001b[0muint64\u001b[0m\u001b[1;33m)\u001b[0m\u001b[1;33m\u001b[0m\u001b[1;33m\u001b[0m\u001b[0m\n\u001b[0m\u001b[0;32m     26\u001b[0m     \u001b[0mbins\u001b[0m \u001b[1;33m=\u001b[0m \u001b[0mnp\u001b[0m\u001b[1;33m.\u001b[0m\u001b[0mlinspace\u001b[0m\u001b[1;33m(\u001b[0m\u001b[1;33m-\u001b[0m\u001b[0moffset\u001b[0m\u001b[1;33m,\u001b[0m \u001b[0moffset\u001b[0m\u001b[1;33m,\u001b[0m \u001b[0mmax_distance\u001b[0m\u001b[1;33m)\u001b[0m\u001b[1;33m\u001b[0m\u001b[1;33m\u001b[0m\u001b[0m\n\u001b[0;32m     27\u001b[0m \u001b[1;33m\u001b[0m\u001b[0m\n",
      "\u001b[1;31mTypeError\u001b[0m: 'numpy.float64' object cannot be interpreted as an integer"
     ]
    },
    {
     "data": {
      "image/png": "[encoded data removed]",
      "text/plain": [
       "<Figure size 864x288 with 3 Axes>"
      ]
     },
     "metadata": {
      "needs_background": "light"
     },
     "output_type": "display_data"
    }
   ],
   "source": [
    "from skimage.transform import hough_line\n",
    "import matplotlib.pyplot as plt\n",
    "%matplotlib inline\n",
    "import numpy as np\n",
    "import warnings\n",
    "warnings.filterwarnings('ignore')\n",
    "\n",
    "def my_hough_line(img, angles=180):\n",
    "    \"\"\"\n",
    "    Apply linear Hough transform to the given image.\n",
    "    \n",
    "    Args:\n",
    "        img (numpy.ndarray): The binary image to transform\n",
    "        angles (int): The number of angles to consider.\n",
    "    Result:\n",
    "        accumulator (numpy.ndarray): The accumulator space.\n",
    "    \"\"\"\n",
    "    # YOUR CODE HERE\n",
    "    # Compute the array of angles and their sine and cosine\n",
    "    cdef cnp.ndarray[ndim=1, dtype=cnp.double_t] ctheta\n",
    "    cdef cnp.ndarray[ndim=1, dtype=cnp.double_t] stheta\n",
    "\n",
    "    ctheta = np.cos(theta)\n",
    "    stheta = np.sin(theta)\n",
    "\n",
    "    # compute the bins and allocate the accumulator array\n",
    "    cdef cnp.ndarray[ndim=2, dtype=cnp.uint64_t] accum\n",
    "    cdef cnp.ndarray[ndim=1, dtype=cnp.double_t] bins\n",
    "    cdef Py_ssize_t max_distance, offset\n",
    "\n",
    "    offset = <Py_ssize_t>ceil(sqrt(img.shape[0] * img.shape[0] +\n",
    "                                   img.shape[1] * img.shape[1]))\n",
    "    max_distance = 2 * offset + 1\n",
    "    accum = np.zeros((max_distance, theta.shape[0]), dtype=np.uint64)\n",
    "    bins = np.linspace(-offset, offset, max_distance)\n",
    "\n",
    "    # compute the nonzero indexes\n",
    "    cdef cnp.ndarray[ndim=1, dtype=cnp.npy_intp] x_idxs, y_idxs\n",
    "    y_idxs, x_idxs = np.nonzero(img)\n",
    "\n",
    "    # finally, run the transform\n",
    "    cdef Py_ssize_t nidxs, nthetas, i, j, x, y, accum_idx\n",
    "\n",
    "    nidxs = y_idxs.shape[0]  # x and y are the same shape\n",
    "    nthetas = theta.shape[0]\n",
    "    with nogil:\n",
    "        for i in range(nidxs):\n",
    "            x = x_idxs[i]\n",
    "            y = y_idxs[i]\n",
    "            for j in range(nthetas):\n",
    "                accum_idx = round((ctheta[j] * x + stheta[j] * y)) + offset\n",
    "                accum[accum_idx, j] += 1\n",
    "\n",
    "    return accum, theta, bins\n",
    "\n",
    "    return accumulator\n",
    "\n",
    "\n",
    "img = np.zeros((100,100))\n",
    "\n",
    "# You may try different paintings here:\n",
    "#point(img, (10,10))\n",
    "#line(img,(10,20),(70,20))\n",
    "polygon(img,[(20,10),(80,50),(80,80),(30,60)])\n",
    "\n",
    "\n",
    "fig, [ax1, ax2, ax3] = plt.subplots(1,3, figsize=(12,4))\n",
    "plt.gray()\n",
    "\n",
    "# original image\n",
    "ax1.set_title('Image'); \n",
    "ax1.imshow(img, origin = 'lower')\n",
    "\n",
    "# skimage\n",
    "out, angles, d = hough_line(img)\n",
    "\n",
    "out_resized = resize(out, (out.shape[0], out.shape[0]), anti_aliasing=True, preserve_range=True)\n",
    "ax2.set_title('Hough transform (skimage)');\n",
    "ax2.set_xlabel('Angles (degrees)')\n",
    "ax2.set_ylabel('Distance (pixels)')\n",
    "ax2.imshow(np.log(1 + out_resized), origin = 'lower', cmap='gray')\n",
    "ax2.set_yticks(np.linspace(0, out.shape[0], 7))\n",
    "ax2.set_yticklabels((-1 * np.linspace(d[-1], d[0], 7)).astype(int))\n",
    "ax2.set_xticks(np.linspace(0, out.shape[0], 5))\n",
    "ax2.set_xticklabels(np.linspace(np.rad2deg(angles[0]), np.rad2deg(angles[-1]), 5).astype(int))\n",
    "\n",
    "# own implementation\n",
    "my_out = my_hough_line(img)\n",
    "\n",
    "my_out_resized = resize(out, (out.shape[0], out.shape[0]), anti_aliasing=True, preserve_range=True)\n",
    "ax3.set_title('Hough transform (own implementation)');\n",
    "ax3.set_xlabel('Angles (degrees)')\n",
    "ax3.set_ylabel('Distance (pixels)')\n",
    "ax3.imshow(np.log(1 + my_out_resized), origin = 'lower', cmap='gray')\n",
    "ax3.set_yticks(np.linspace(0, out.shape[0], 7))\n",
    "ax3.set_yticklabels((-1 * np.linspace(d[-1], d[0], 7)).astype(int))\n",
    "ax3.set_xticks(np.linspace(0, out.shape[0], 5))\n",
    "ax3.set_xticklabels(np.linspace(np.rad2deg(angles[0]), np.rad2deg(angles[-1]), 5).astype(int))\n",
    "\n",
    "plt.show()\n"
   ]
  },
  {
   "cell_type": "markdown",
   "id": "2c1c3c57",
   "metadata": {
    "deletable": false,
    "editable": false,
    "nbgrader": {
     "cell_type": "markdown",
     "checksum": "b8898aa54fa54dd8e2457eb35a842b83",
     "grade": false,
     "grade_id": "hough-impl-q2",
     "locked": true,
     "schema_version": 3,
     "solution": false
    }
   },
   "source": [
    "**b)** Under which conditions is (linear) Hough transform invertible? Try to implement an inverse linear Hough transform. \n",
    "\n",
    "You could create a line for each point in accumulator space by doing the following: Compute angle and distance of the line represented by the current point in accumulator space. Add the value of this point to all image pixels which belong to the corresponding line. Finally you could threshold the image. \n",
    "\n",
    "However, other solution are feasible, too.\n"
   ]
  },
  {
   "cell_type": "markdown",
   "id": "49a03b4e",
   "metadata": {
    "deletable": false,
    "nbgrader": {
     "cell_type": "markdown",
     "checksum": "55cdbeb991d4c8ba9fb4c53f96b6f105",
     "grade": true,
     "grade_id": "cell-c46015b155439644",
     "locked": false,
     "points": 1,
     "schema_version": 3,
     "solution": true
    },
    "solution": true
   },
   "source": [
    "YOUR ANSWER HERE"
   ]
  },
  {
   "cell_type": "code",
   "execution_count": null,
   "id": "2605e056",
   "metadata": {
    "deletable": false,
    "nbgrader": {
     "cell_type": "code",
     "checksum": "2eb2188f199c21ada33df3a01f546970",
     "grade": true,
     "grade_id": "cell-833ce3476f9c1a27",
     "locked": false,
     "points": 3,
     "schema_version": 3,
     "solution": true
    }
   },
   "outputs": [],
   "source": [
    "%matplotlib inline \n",
    "from skimage.transform import hough_line\n",
    "import matplotlib.pyplot as plt\n",
    "import numpy as np\n",
    "\n",
    "\n",
    "# YOUR CODE HERE\n",
    "\n",
    "def my_inverse_hough_line(accumulator, shape):\n",
    "    \"\"\"Compute an inverse Hough transform, i.e. compute the image from the accumulator space.\n",
    "    \n",
    "    Args:\n",
    "        accumulator (numpy.ndarray)\n",
    "        shape (tuple): The shape (dimensions) of the image to be created\n",
    "\n",
    "    Result:\n",
    "        img (numpy.ndarray): The image created from the accumulator space.\n",
    "    \"\"\"\n",
    "    img = np.zeros(shape, np.uint64)\n",
    "    \n",
    "    # YOUR CODE HERE\n",
    "    return img\n",
    "\n",
    "img = np.zeros((100,100))\n",
    "\n",
    "#point(img, (10,10))\n",
    "#line(img,(10,20),(70,20))\n",
    "#line(img,(20,10),(20,70))\n",
    "polygon(img,[(10,30),(50,50),(10,70)])\n",
    "\n",
    "plt.figure(figsize=(12, 4))\n",
    "plt.gray()\n",
    "plt.subplot(1,3,1) ; plt.title('Image'); plt.imshow(img, origin = 'lower')\n",
    "\n",
    "out, angles, d = hough_line(img)\n",
    "out_resized = resize(out, (out.shape[0], out.shape[0]), anti_aliasing=True, preserve_range=True)\n",
    "ax = plt.subplot(1,3,2) ; plt.title('Hough transform (skimage)');\n",
    "ax.set_title('Hough transform (skimage)');\n",
    "ax.set_xlabel('Angles (degrees)')\n",
    "ax.set_ylabel('Distance (pixels)')\n",
    "ax.imshow(np.log(1 + out_resized), origin = 'lower', cmap='gray')\n",
    "ax.set_yticks(np.linspace(0, out.shape[0], 7))\n",
    "ax.set_yticklabels((-1 * np.linspace(d[-1], d[0], 7)).astype(int))\n",
    "ax.set_xticks(np.linspace(0, out.shape[0], 5))\n",
    "ax.set_xticklabels(np.linspace(np.rad2deg(angles[0]), np.rad2deg(angles[-1]), 5).astype(int))\n",
    "\n",
    "img2 = my_inverse_hough_line(out, img.shape)\n",
    "plt.subplot(1,3,3) ; plt.title('Inverse Hough transform');\n",
    "plt.imshow(img2, origin = 'lower')\n",
    "plt.show()"
   ]
  },
  {
   "cell_type": "markdown",
   "id": "8ecfdf61",
   "metadata": {
    "deletable": false,
    "editable": false,
    "nbgrader": {
     "cell_type": "markdown",
     "checksum": "255da1eb752fc04db03081e826a27009",
     "grade": false,
     "grade_id": "cell-363c7fb6b5097e1e",
     "locked": true,
     "schema_version": 3,
     "solution": false
    }
   },
   "source": [
    "## Assignment 4: Circular Hough [7 Points]"
   ]
  },
  {
   "cell_type": "markdown",
   "id": "483eaefc",
   "metadata": {
    "deletable": false,
    "editable": false,
    "nbgrader": {
     "cell_type": "markdown",
     "checksum": "cd40e61149ec63287435d5488f453cc0",
     "grade": false,
     "grade_id": "hough-circular-q1",
     "locked": true,
     "schema_version": 3,
     "solution": false
    }
   },
   "source": [
    "**a)** Explain the idea of circular Hough transform. How many dimensions does the accumulator space have and what do they represent? What practical problems do you expect when computing circular Hough transform?"
   ]
  },
  {
   "cell_type": "markdown",
   "id": "ec39f256",
   "metadata": {
    "deletable": false,
    "nbgrader": {
     "cell_type": "markdown",
     "checksum": "28ff5557e61568ff55a1bc914553deb6",
     "grade": true,
     "grade_id": "hough-circular-a1",
     "locked": false,
     "points": 2,
     "schema_version": 3,
     "solution": true
    },
    "solution": true
   },
   "source": [
    "YOUR ANSWER HERE"
   ]
  },
  {
   "cell_type": "markdown",
   "id": "5b6edd21",
   "metadata": {
    "deletable": false,
    "editable": false,
    "nbgrader": {
     "cell_type": "markdown",
     "checksum": "f081e38bf3ce1611f4f936153ed4492c",
     "grade": false,
     "grade_id": "hough-circular-q2",
     "locked": true,
     "schema_version": 3,
     "solution": false
    }
   },
   "source": [
    "**b)** Now implement circular hough transform. First think how the accumulator space should be represented. You may provide an additional parameter to only look for circles of a given radius (or a range of radii). Then apply it to the image `xmas.png` to detect the balls. Mark them in the original image. (Bonus task: also detect the presents using linear Hough transform)."
   ]
  },
  {
   "cell_type": "code",
   "execution_count": null,
   "id": "c9bed865",
   "metadata": {
    "deletable": false,
    "nbgrader": {
     "cell_type": "code",
     "checksum": "cbe2bcfe83b94a062dcff08b81943789",
     "grade": true,
     "grade_id": "hough-circular-a23",
     "locked": false,
     "points": 5,
     "schema_version": 3,
     "solution": true
    }
   },
   "outputs": [],
   "source": [
    "%matplotlib inline\n",
    "from skimage.transform import hough_line\n",
    "from scipy import misc\n",
    "from imageio import imread\n",
    "import matplotlib.pyplot as plt\n",
    "import numpy as np\n",
    "\n",
    "\n",
    "def my_hough_line(img, angles=180):\n",
    "\n",
    "    cdef Py_ssize_t xmax = img.shape[0]\n",
    "    cdef Py_ssize_t ymax = img.shape[1]\n",
    "\n",
    "    # compute the nonzero indexes\n",
    "    cdef cnp.ndarray[ndim=1, dtype=cnp.intp_t] x, y\n",
    "    x, y = np.nonzero(img)\n",
    "\n",
    "    cdef Py_ssize_t num_pixels = x.size\n",
    "\n",
    "    cdef Py_ssize_t offset = 0\n",
    "    if full_output:\n",
    "        # Offset the image\n",
    "        offset = radius.max()\n",
    "        x = x + offset\n",
    "        y = y + offset\n",
    "\n",
    "    cdef Py_ssize_t i, p, c, num_circle_pixels, tx, ty\n",
    "    cdef double incr\n",
    "    cdef cnp.ndarray[ndim=1, dtype=cnp.intp_t] circle_x, circle_y\n",
    "\n",
    "    cdef cnp.ndarray[ndim=3, dtype=cnp.double_t] acc = \\\n",
    "         np.zeros((radius.size,\n",
    "                   img.shape[0] + 2 * offset,\n",
    "                   img.shape[1] + 2 * offset), dtype=np.double)\n",
    "\n",
    "    for i, rad in enumerate(radius):\n",
    "        # Store in memory the circle of given radius\n",
    "        # centered at (0,0)\n",
    "        circle_x, circle_y = circle_perimeter(0, 0, rad)\n",
    "\n",
    "        num_circle_pixels = circle_x.size\n",
    "\n",
    "        with nogil:\n",
    "\n",
    "            if normalize:\n",
    "                incr = 1.0 / num_circle_pixels\n",
    "            else:\n",
    "                incr = 1\n",
    "\n",
    "            # For each non zero pixel\n",
    "            for p in range(num_pixels):\n",
    "                # Plug the circle at (px, py),\n",
    "                # its coordinates are (tx, ty)\n",
    "                for c in range(num_circle_pixels):\n",
    "                    tx = circle_x[c] + x[p]\n",
    "                    ty = circle_y[c] + y[p]\n",
    "                    if offset:\n",
    "                        acc[i, tx, ty] += incr\n",
    "                    elif 0 <= tx < xmax and 0 <= ty < ymax:\n",
    "                        acc[i, tx, ty] += incr\n",
    "\n",
    "    return accumulator\n",
    "# load the image\n",
    "img = imread('images/xmas.png')\n",
    "\n",
    "# YOUR CODE HERE"
   ]
  },
  {
   "cell_type": "markdown",
   "id": "7e57b10e",
   "metadata": {
    "deletable": false,
    "editable": false,
    "nbgrader": {
     "cell_type": "markdown",
     "checksum": "39895feee3d5c216012a62f6a538dc5e",
     "grade": false,
     "grade_id": "cell-55e58490fba98d34",
     "locked": true,
     "schema_version": 3,
     "solution": false
    }
   },
   "source": [
    "## Assignment 5: Application: Eye detection [Bonus]\n",
    "\n",
    "**Bonus:** If you do this exercise, you may leave out one of the others."
   ]
  },
  {
   "cell_type": "markdown",
   "id": "ef507fa3",
   "metadata": {
    "deletable": false,
    "editable": false,
    "nbgrader": {
     "cell_type": "markdown",
     "checksum": "35750da869f0f995f067b1f25b2ee671",
     "grade": false,
     "grade_id": "hough-circular-q4",
     "locked": true,
     "schema_version": 3,
     "solution": false
    }
   },
   "source": [
    "**a)** It was suggested in the lecture, that circular Hough transform can be used to implement a simple\n",
    "form of “eye tracking”. Try this using your webcam.\n",
    "\n",
    "Hints:\n",
    "* You may start with a single snapshot (or some other image of a face from wherever you like) before applying your function to a video stream.\n",
    "* You may start using functions like `hough_circle` from `skimage.transform`, which implement circular Hough transform.\n",
    "* You may try to apply some preprocessing to detect edges or regions prior to Hough transform (you may use anything you know from the lecture).\n",
    "* `hough_circle` may be inappropriate, as it is designed to detect full circles, while eyes are often partially occluded. You may implement your own Hough transforms, which detects this kind of incomplete circles.\n",
    "* You may apply additional knowledge to detect eyes, e.g. that they usually occur in pairs. You may also use the approximate size and position from last frame."
   ]
  },
  {
   "cell_type": "code",
   "execution_count": null,
   "id": "cc0213f9",
   "metadata": {
    "deletable": false,
    "nbgrader": {
     "cell_type": "code",
     "checksum": "175cb536c5ae60e27f18aa17265bf29e",
     "grade": true,
     "grade_id": "hough-circular-a4",
     "locked": false,
     "points": 0,
     "schema_version": 3,
     "solution": true
    }
   },
   "outputs": [],
   "source": [
    "# imageio\n",
    "%matplotlib notebook\n",
    "from IPython.display import display, HTML\n",
    "import matplotlib.pyplot as plt\n",
    "import imageio\n",
    "import numpy as np\n",
    "from skimage.filters import gaussian\n",
    "from skimage.feature import canny\n",
    "from skimage.color import rgb2gray\n",
    "from skimage.transform import hough_circle, hough_circle_peaks\n",
    "from skimage.draw import circle_perimeter\n",
    "\n",
    "# we use visvis for a bit better performance compared to matplotlib\n",
    "import visvis as vv\n",
    "\n",
    "\n",
    "# List of radii we compute hough transform for. Ideally we adjust for the perfect radius.\n",
    "hough_radii = [10]\n",
    "    \n",
    "def detect_eyes(img):\n",
    "    \"\"\"Find pairs of eyes in image based on circular Hough transform.\n",
    "    \n",
    "    Args:\n",
    "        img (ndarray): The RGB input image to detect the eyes in. shape=(h, w, 3)\n",
    "        \n",
    "    Returns:\n",
    "        ndarray: The image with detected eyes highlighted.\n",
    "    \n",
    "    \"\"\"\n",
    "    # YOUR CODE HERE\n",
    "\n",
    "try:\n",
    "    display(HTML(\"press <kbd>I</kbd>, <kbd>I</kbd> (Kernel Interrupt) to stop the demo!\"))\n",
    "    with imageio.get_reader('<video0>') as webcam:\n",
    "        t = vv.imshow(webcam.get_next_data(), clim=(0, 255))\n",
    "\n",
    "        while True:\n",
    "            img = webcam.get_next_data()\n",
    "            vv.processEvents()\n",
    "            # subsample the image also for performance\n",
    "            detect_eyes(img[::2,::2,:])\n",
    "            t.SetData(img)\n",
    "except KeyboardInterrupt:\n",
    "    print(\"Interrupted\")\n",
    "finally:\n",
    "    webcam.close()\n",
    "    plt.close(fig)\n",
    "    print(\"Camera was closed.\")\n",
    "    "
   ]
  }
 ],
 "metadata": {
  "hide_input": false,
  "kernelspec": {
   "display_name": "Python 3",
   "language": "python",
   "name": "python3"
  },
  "language_info": {
   "codemirror_mode": {
    "name": "ipython",
    "version": 3
   },
   "file_extension": ".py",
   "mimetype": "text/x-python",
   "name": "python",
   "nbconvert_exporter": "python",
   "pygments_lexer": "ipython3",
   "version": "3.8.8"
  },
  "toc": {
   "base_numbering": 1,
   "nav_menu": {},
   "number_sections": true,
   "sideBar": true,
   "skip_h1_title": false,
   "title_cell": "Table of Contents",
   "title_sidebar": "Contents",
   "toc_cell": false,
   "toc_position": {},
   "toc_section_display": true,
   "toc_window_display": false
  }
 },
 "nbformat": 4,
 "nbformat_minor": 5
}
